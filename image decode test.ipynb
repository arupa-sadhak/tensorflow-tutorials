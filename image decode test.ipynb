{
 "cells": [
  {
   "cell_type": "code",
   "execution_count": null,
   "metadata": {
    "collapsed": true
   },
   "outputs": [],
   "source": [
    "import tensorflow as tf\n",
    "sess = tf.InteractiveSession()"
   ]
  },
  {
   "cell_type": "code",
   "execution_count": null,
   "metadata": {
    "collapsed": false
   },
   "outputs": [],
   "source": [
    "filepath = 'datas/sample2.jpg'\n",
    "bytestream = tf.read_file(filepath)\n",
    "image = tf.image.decode_jpeg(bytestream, channels=3)\n",
    "\n",
    "resized_image = tf.image.resize_images(image, 320, 640)\n",
    "resized_image = tf.reshape(resized_image, [1, 320, 640, 3])\n",
    "splited_image = tf.transpose(image, perm=[2, 0, 1])\n",
    "print splited_image.get_shape().as_list()\n",
    "\n",
    "resized_and_splited_image = tf.transpose(resized_image, perm=[3, 2, 0, 1])\n",
    "resized_and_splited_image = tf.reshape(resized_and_splited_image, [320*3, 640, 1])\n",
    "splited_and_resized_image = tf.image.resize_images(splited_image, 640, 320)\n",
    "\n",
    "\n",
    "image = image.eval()\n",
    "resized_image = resized_image.eval()\n",
    "splited_image = splited_image.eval()\n",
    "resized_and_splited_image = resized_and_splited_image.eval()\n",
    "splited_and_resized_image = splited_and_resized_image.eval()\n"
   ]
  },
  {
   "cell_type": "code",
   "execution_count": null,
   "metadata": {
    "collapsed": false
   },
   "outputs": [],
   "source": [
    "import numpy as np\n",
    "import matplotlib.pyplot as plt\n",
    "%matplotlib inline\n"
   ]
  },
  {
   "cell_type": "code",
   "execution_count": null,
   "metadata": {
    "collapsed": false
   },
   "outputs": [],
   "source": [
    "height, width, depth = image.shape\n",
    "plt.figure(1, figsize=(3, 3))\n",
    "plt.imshow( image, interpolation='none' )\n",
    "plt.figure(2, figsize=(9, 3))\n",
    "plt.imshow( image.reshape(-1).reshape( -1, width*3 ), cmap='gray', interpolation='none' )\n",
    "plt.figure(3, figsize=(3, 9))\n",
    "plt.imshow( splited_image, cmap='gray', interpolation='none' )"
   ]
  },
  {
   "cell_type": "code",
   "execution_count": null,
   "metadata": {
    "collapsed": false
   },
   "outputs": [],
   "source": [
    "height, width, depth = resized_image.shape\n",
    "plt.figure(1, figsize=(3, 3))\n",
    "plt.imshow( resized_image.astype('uint8'), interpolation='none' )\n",
    "plt.figure(2, figsize=(9, 3))\n",
    "plt.imshow( resized_image.reshape(-1).reshape( -1, width*3 ), cmap='gray', interpolation='none' )\n",
    "plt.figure(3, figsize=(3, 9))\n",
    "plt.imshow( resized_and_splited_image.reshape(-1).reshape( -1, width ), cmap='gray', interpolation='none' )\n"
   ]
  },
  {
   "cell_type": "code",
   "execution_count": null,
   "metadata": {
    "collapsed": false
   },
   "outputs": [],
   "source": [
    "splited_and_resized_image.shape"
   ]
  },
  {
   "cell_type": "code",
   "execution_count": null,
   "metadata": {
    "collapsed": true
   },
   "outputs": [],
   "source": [
    "sess.close()"
   ]
  },
  {
   "cell_type": "code",
   "execution_count": null,
   "metadata": {
    "collapsed": true
   },
   "outputs": [],
   "source": []
  }
 ],
 "metadata": {
  "kernelspec": {
   "display_name": "Python 2",
   "language": "python",
   "name": "python2"
  },
  "language_info": {
   "codemirror_mode": {
    "name": "ipython",
    "version": 2
   },
   "file_extension": ".py",
   "mimetype": "text/x-python",
   "name": "python",
   "nbconvert_exporter": "python",
   "pygments_lexer": "ipython2",
   "version": "2.7.6"
  }
 },
 "nbformat": 4,
 "nbformat_minor": 0
}
