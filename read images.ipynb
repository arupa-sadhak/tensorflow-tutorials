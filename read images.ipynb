{
 "cells": [
  {
   "cell_type": "code",
   "execution_count": 1,
   "metadata": {
    "collapsed": false
   },
   "outputs": [],
   "source": [
    "import tensorflow as tf"
   ]
  },
  {
   "cell_type": "code",
   "execution_count": 2,
   "metadata": {
    "collapsed": false
   },
   "outputs": [],
   "source": [
    "def read_csv_format_with_image(filename_queue, width, height, channels=3):\n",
    "    reader = tf.TextLineReader()\n",
    "    key, line = reader.read(filename_queue)\n",
    "    _ = tf.decode_csv(line, record_defaults=[[''], [0]])\n",
    "    label = _[1]# tf.cast(_[1], tf.int32)\n",
    "    filepath = _[0]\n",
    "    \n",
    "    bytestream = tf.read_file(filepath)\n",
    "    image = tf.image.decode_png(bytestream, channels=channels)\n",
    "    \n",
    "    #TODO: add preprocessing\n",
    "    \n",
    "    image = tf.image.resize_images(image, height, width)\n",
    "\n",
    "    label = tf.cast(label, tf.int32)\n",
    "    image = tf.cast(image, tf.float32)\n",
    "    return image, label"
   ]
  },
  {
   "cell_type": "code",
   "execution_count": 3,
   "metadata": {
    "collapsed": false
   },
   "outputs": [],
   "source": [
    "def input_pipeline(filenames, width, height, batch_size, channels=3, read_threads=8, num_epochs=None):\n",
    "    filename_queue = tf.train.string_input_producer(filenames, num_epochs=num_epochs, shuffle=True)\n",
    "    example_list = [read_csv_format_with_image(filename_queue, width, height, channels) for _ in range(read_threads)]\n",
    "    min_after_dequeue = 1\n",
    "    capacity = min_after_dequeue + 3 * batch_size\n",
    "    image_batch, label_batch = tf.train.shuffle_batch_join(\n",
    "        example_list, batch_size=batch_size, capacity=capacity, min_after_dequeue=min_after_dequeue)\n",
    "    return image_batch, label_batch"
   ]
  },
  {
   "cell_type": "code",
   "execution_count": null,
   "metadata": {
    "collapsed": false
   },
   "outputs": [],
   "source": [
    "image, label = input_pipeline(['datas/ordered.txt'], 32, 32, 4)\n",
    "\n",
    "with tf.Session() as sess:\n",
    "    sess.run( tf.initialize_all_variables() )\n",
    "    \n",
    "    # start input enqueue threads\n",
    "    coord = tf.train.Coordinator()\n",
    "    threads = tf.train.start_queue_runners(sess=sess, coord=coord)\n",
    "    \n",
    "    try:\n",
    "        i = 0\n",
    "        while not coord.should_stop():\n",
    "            i += 1\n",
    "            if i > 10:\n",
    "                break;\n",
    "            batch = sess.run([image, label])\n",
    "            print batch[1]\n",
    "    except tf.error.outOfRangeError:\n",
    "        print('Done training -- epoch limit reached')\n",
    "    finally:\n",
    "        coord.request_stop()\n",
    "\n",
    "    # wait for threads to finish\n",
    "    coord.join(threads)"
   ]
  },
  {
   "cell_type": "code",
   "execution_count": null,
   "metadata": {
    "collapsed": false
   },
   "outputs": [],
   "source": [
    "image, label = input_pipeline(['datas/label0.txt', 'datas/label1.txt', 'datas/label2.txt', 'datas/label3.txt'], 32, 32, 4)\n",
    "\n",
    "with tf.Session() as sess:\n",
    "    sess.run( tf.initialize_all_variables() )\n",
    "    \n",
    "    # start input enqueue threads\n",
    "    coord = tf.train.Coordinator()\n",
    "    threads = tf.train.start_queue_runners(sess=sess, coord=coord)\n",
    "    \n",
    "    try:\n",
    "        i = 0\n",
    "        while not coord.should_stop():\n",
    "            i += 1\n",
    "            if i > 10:\n",
    "                break;\n",
    "            batch = sess.run([image, label])\n",
    "            print batch[1]\n",
    "    except tf.error.outOfRangeError:\n",
    "        print('Done training -- epoch limit reached')\n",
    "    finally:\n",
    "        coord.request_stop()\n",
    "\n",
    "    # wait for threads to finish\n",
    "    coord.join(threads)"
   ]
  },
  {
   "cell_type": "code",
   "execution_count": null,
   "metadata": {
    "collapsed": true
   },
   "outputs": [],
   "source": []
  }
 ],
 "metadata": {
  "kernelspec": {
   "display_name": "Python 2",
   "language": "python",
   "name": "python2"
  },
  "language_info": {
   "codemirror_mode": {
    "name": "ipython",
    "version": 2
   },
   "file_extension": ".py",
   "mimetype": "text/x-python",
   "name": "python",
   "nbconvert_exporter": "python",
   "pygments_lexer": "ipython2",
   "version": "2.7.6"
  }
 },
 "nbformat": 4,
 "nbformat_minor": 0
}
