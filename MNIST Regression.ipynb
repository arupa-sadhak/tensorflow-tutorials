{
 "cells": [
  {
   "cell_type": "markdown",
   "metadata": {},
   "source": [
    "# MNIST Regression\n",
    "\n",
    "target label이 one hot vector가 아닌 1개의 숫자 [0, 9]"
   ]
  },
  {
   "cell_type": "markdown",
   "metadata": {},
   "source": [
    "## Setup\n",
    "### The MNIST Data"
   ]
  },
  {
   "cell_type": "code",
   "execution_count": 1,
   "metadata": {
    "collapsed": false
   },
   "outputs": [
    {
     "name": "stdout",
     "output_type": "stream",
     "text": [
      "Extracting MNIST_data/train-images-idx3-ubyte.gz\n",
      "Extracting MNIST_data/train-labels-idx1-ubyte.gz\n",
      "Extracting MNIST_data/t10k-images-idx3-ubyte.gz\n",
      "Extracting MNIST_data/t10k-labels-idx1-ubyte.gz\n"
     ]
    }
   ],
   "source": [
    "from tensorflow.examples.tutorials.mnist import input_data\n",
    "mnist = input_data.read_data_sets(\"MNIST_data/\", one_hot=False)"
   ]
  },
  {
   "cell_type": "code",
   "execution_count": 2,
   "metadata": {
    "collapsed": false
   },
   "outputs": [
    {
     "name": "stdout",
     "output_type": "stream",
     "text": [
      "7\n"
     ]
    }
   ],
   "source": [
    "print mnist.train.labels[0]"
   ]
  },
  {
   "cell_type": "code",
   "execution_count": 3,
   "metadata": {
    "collapsed": true
   },
   "outputs": [],
   "source": [
    "import tensorflow as tf\n",
    "sess = tf.InteractiveSession()"
   ]
  },
  {
   "cell_type": "markdown",
   "metadata": {},
   "source": [
    "## Inputs and Placeholders"
   ]
  },
  {
   "cell_type": "code",
   "execution_count": 4,
   "metadata": {
    "collapsed": false
   },
   "outputs": [],
   "source": [
    "images = tf.placeholder('float', shape=[None, 784])\n",
    "labels = tf.placeholder('float', shape=[None, 1])"
   ]
  },
  {
   "cell_type": "markdown",
   "metadata": {},
   "source": [
    "## Build a Multilayer Convolution Layers"
   ]
  },
  {
   "cell_type": "code",
   "execution_count": 5,
   "metadata": {
    "collapsed": false
   },
   "outputs": [],
   "source": [
    "keep_prob = tf.placeholder('float')\n",
    "def inference(x):\n",
    "    with tf.name_scope('conv1'):\n",
    "        weights = tf.Variable( tf.truncated_normal([5, 5, 1, 32], stddev=0.1) )\n",
    "        bias = tf.Variable( tf.constant(0.1, shape=[32]) )\n",
    "    \n",
    "        reshaped_input = tf.reshape(x, [-1, 28,28,1])\n",
    "        _ = tf.nn.conv2d(reshaped_input, weights, strides=[1, 1, 1, 1], padding='SAME') + bias\n",
    "        _ = tf.nn.relu( _ )\n",
    "        _ = tf.nn.max_pool(_, ksize=[1, 2, 2, 1], strides=[1, 2, 2, 1], padding='SAME')\n",
    "        conv1_out = _\n",
    "\n",
    "    with tf.name_scope('conv2'):\n",
    "        weights = tf.Variable( tf.truncated_normal([5, 5, 32, 64], stddev=0.1) )\n",
    "        bias = tf.Variable( tf.constant(0.1, shape=[64]) )\n",
    "    \n",
    "        _ = tf.nn.conv2d(conv1_out, weights, strides=[1, 1, 1, 1], padding='SAME') + bias\n",
    "        _ = tf.nn.relu( _ )\n",
    "        _ = tf.nn.max_pool(_, ksize=[1, 2, 2, 1], strides=[1, 2, 2, 1], padding='SAME')    \n",
    "        conv2_out = _\n",
    "\n",
    "    with tf.name_scope('fullconn'):\n",
    "        weights = tf.Variable( tf.truncated_normal([7*7*64, 1024], stddev=0.1) )\n",
    "        bias = tf.Variable( tf.constant(0.1, shape=[1024]) )\n",
    "    \n",
    "        reshaped_input = tf.reshape(conv2_out, [-1, 7*7*64])\n",
    "        _ = tf.matmul(reshaped_input, weights) + bias\n",
    "        _ = tf.nn.relu( _ )\n",
    "        fullconn_out = _\n",
    "    \n",
    "        # dropout\n",
    "        dropout_out = tf.nn.dropout(fullconn_out, keep_prob)\n",
    "\n",
    "    with tf.name_scope('output'):\n",
    "        weights = tf.Variable(  tf.truncated_normal([1024, 1], stddev=0.1) )\n",
    "        bias = tf.Variable( tf.constant(0.1, shape=[1]) )\n",
    "    \n",
    "        _ = tf.matmul(dropout_out, weights) + bias\n",
    "        y = _\n",
    "        \n",
    "    return y"
   ]
  },
  {
   "cell_type": "code",
   "execution_count": 6,
   "metadata": {
    "collapsed": false
   },
   "outputs": [],
   "source": [
    "cross_entropy = ( 0.5 * tf.pow((inference(images) - labels), 2) )\n",
    "train_step = tf.train.AdamOptimizer(1e-4).minimize(cross_entropy)"
   ]
  },
  {
   "cell_type": "code",
   "execution_count": 7,
   "metadata": {
    "collapsed": false
   },
   "outputs": [],
   "source": [
    "sess.run(tf.initialize_all_variables())"
   ]
  },
  {
   "cell_type": "code",
   "execution_count": 8,
   "metadata": {
    "collapsed": false
   },
   "outputs": [
    {
     "name": "stdout",
     "output_type": "stream",
     "text": [
      "step 0, training loss 13.6601\n",
      "step 100, training loss 2.17481\n",
      "step 200, training loss 0.670446\n",
      "step 300, training loss 1.57771\n",
      "step 400, training loss 0.879913\n",
      "step 500, training loss 0.711898\n",
      "step 600, training loss 0.91927\n",
      "step 700, training loss 0.636307\n",
      "step 800, training loss 0.687924\n",
      "step 900, training loss 0.606165\n",
      "test loss 0.667562\n"
     ]
    }
   ],
   "source": [
    "import numpy as np\n",
    "for i in range(1000):\n",
    "    batch = mnist.train.next_batch(50)\n",
    "    _labels = np.reshape(batch[1], [50, 1]).astype('float')\n",
    "    if i%100 == 0:\n",
    "        print (\"step %d, training loss %g\"%(i, np.mean(cross_entropy.eval(feed_dict={\n",
    "            images: batch[0], labels: _labels, keep_prob: 1.0}))))\n",
    "    train_step.run(feed_dict={images: batch[0], labels: _labels, keep_prob: 0.5})\n",
    "    \n",
    "print(\"test loss %g\"% np.mean( cross_entropy.eval(feed_dict={\n",
    "    images: mnist.test.images, labels: np.reshape(mnist.test.labels, [-1, 1]).astype('float'), keep_prob: 1.0}) ))\n"
   ]
  },
  {
   "cell_type": "code",
   "execution_count": null,
   "metadata": {
    "collapsed": false
   },
   "outputs": [],
   "source": []
  },
  {
   "cell_type": "code",
   "execution_count": null,
   "metadata": {
    "collapsed": true
   },
   "outputs": [],
   "source": []
  }
 ],
 "metadata": {
  "kernelspec": {
   "display_name": "Python 2",
   "language": "python",
   "name": "python2"
  },
  "language_info": {
   "codemirror_mode": {
    "name": "ipython",
    "version": 2
   },
   "file_extension": ".py",
   "mimetype": "text/x-python",
   "name": "python",
   "nbconvert_exporter": "python",
   "pygments_lexer": "ipython2",
   "version": "2.7.6"
  }
 },
 "nbformat": 4,
 "nbformat_minor": 0
}
