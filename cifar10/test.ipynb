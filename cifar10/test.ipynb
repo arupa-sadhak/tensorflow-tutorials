{
 "cells": [
  {
   "cell_type": "code",
   "execution_count": 1,
   "metadata": {
    "collapsed": false
   },
   "outputs": [],
   "source": [
    "import images\n",
    "filenames = ['../datas/label%d.txt'%_ for _ in range(10)]\n",
    "reader = images.Reader(filenames, batch_size=128, width=32, height=32, filetype='png', min_after_dequeue=1)\n",
    "batch = reader.batch"
   ]
  },
  {
   "cell_type": "code",
   "execution_count": 2,
   "metadata": {
    "collapsed": false
   },
   "outputs": [],
   "source": [
    "from cifar10_architecture import Cifar10Architecture"
   ]
  },
  {
   "cell_type": "code",
   "execution_count": 3,
   "metadata": {
    "collapsed": false
   },
   "outputs": [
    {
     "name": "stdout",
     "output_type": "stream",
     "text": [
      "[training] step:0000, loss:6.383767 accuracy:0.093750 (318.7 examples/sec; 0.402 sec/batch)\n",
      "[training] step:0010, loss:5.128115 accuracy:0.093750 (698.5 examples/sec; 0.183 sec/batch)\n",
      "[training] step:0020, loss:4.283364 accuracy:0.109375 (633.4 examples/sec; 0.202 sec/batch)\n",
      "[training] step:0030, loss:3.454549 accuracy:0.281250 (679.2 examples/sec; 0.188 sec/batch)\n",
      "[training] step:0040, loss:3.153194 accuracy:0.257812 (688.0 examples/sec; 0.186 sec/batch)\n",
      "[training] step:0050, loss:2.732093 accuracy:0.320312 (638.9 examples/sec; 0.200 sec/batch)\n",
      "[training] step:0060, loss:2.594577 accuracy:0.242188 (696.0 examples/sec; 0.184 sec/batch)\n",
      "[training] step:0070, loss:2.524680 accuracy:0.242188 (724.5 examples/sec; 0.177 sec/batch)\n",
      "[training] step:0080, loss:2.246805 accuracy:0.312500 (669.6 examples/sec; 0.191 sec/batch)\n",
      "[training] step:0090, loss:2.101141 accuracy:0.312500 (719.1 examples/sec; 0.178 sec/batch)\n",
      "[training] step:0100, loss:2.155139 accuracy:0.335938 (719.1 examples/sec; 0.178 sec/batch)\n"
     ]
    }
   ],
   "source": [
    "import time\n",
    "import tensorflow as tf\n",
    "with tf.Session() as sess:\n",
    "    network = Cifar10Architecture(sess)\n",
    "    train_op, loss, accuracy = network.train(batch.images, batch.labels)\n",
    "    summary_op = tf.merge_all_summaries()\n",
    "    summary_writer = tf.train.SummaryWriter('/tmp/cifar10', graph_def=sess.graph_def)\n",
    "\n",
    "    sess.run( tf.initialize_all_variables() )\n",
    "    reader.start(sess)\n",
    "    \n",
    "    try:\n",
    "        for step in range(101):\n",
    "            start_time = time.time()\n",
    "            _ = sess.run([train_op, loss, accuracy])\n",
    "            duration = time.time() - start_time\n",
    "            \n",
    "            if step%10 == 0:\n",
    "                num_examples_per_step = 128\n",
    "                examples_per_sec = num_examples_per_step / duration\n",
    "                sec_per_batch = float(duration)\n",
    "                print '[training] step:%04d, loss:%.6f accuracy:%.6f (%.1f examples/sec; %.3f sec/batch)'%(step, _[1], _[2], examples_per_sec, sec_per_batch)\n",
    "                \n",
    "            if step % 100 == 0:\n",
    "                summary_str = sess.run(summary_op)\n",
    "                summary_writer.add_summary(summary_str, step)\n",
    "\n",
    "    except tf.errors.OutOfRangeError:\n",
    "        print('Done training -- epoch limit reached')\n",
    "    finally:\n",
    "        reader.stop()\n",
    "    \n",
    "    reader.join()"
   ]
  },
  {
   "cell_type": "code",
   "execution_count": null,
   "metadata": {
    "collapsed": false
   },
   "outputs": [],
   "source": []
  },
  {
   "cell_type": "code",
   "execution_count": null,
   "metadata": {
    "collapsed": true
   },
   "outputs": [],
   "source": []
  }
 ],
 "metadata": {
  "kernelspec": {
   "display_name": "Python 2",
   "language": "python",
   "name": "python2"
  },
  "language_info": {
   "codemirror_mode": {
    "name": "ipython",
    "version": 2
   },
   "file_extension": ".py",
   "mimetype": "text/x-python",
   "name": "python",
   "nbconvert_exporter": "python",
   "pygments_lexer": "ipython2",
   "version": "2.7.6"
  }
 },
 "nbformat": 4,
 "nbformat_minor": 0
}
