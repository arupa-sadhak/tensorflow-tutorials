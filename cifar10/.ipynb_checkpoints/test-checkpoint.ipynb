{
 "cells": [
  {
   "cell_type": "code",
   "execution_count": 1,
   "metadata": {
    "collapsed": true
   },
   "outputs": [],
   "source": [
    "import tensorflow as tf\n",
    "sess = tf.InteractiveSession()"
   ]
  },
  {
   "cell_type": "code",
   "execution_count": 2,
   "metadata": {
    "collapsed": false
   },
   "outputs": [],
   "source": [
    "image = tf.image.decode_jpeg(tf.read_file('../datas/sample.jpg'), channels=3)\n",
    "image = tf.cast( tf.image.resize_images(image, 32, 32), tf.float32 )\n",
    "\n",
    "images = tf.train.batch([image], 1)\n",
    "coord = tf.train.Coordinator()\n",
    "threads = tf.train.start_queue_runners(sess=sess, coord=coord)\n"
   ]
  },
  {
   "cell_type": "code",
   "execution_count": 3,
   "metadata": {
    "collapsed": false
   },
   "outputs": [
    {
     "data": {
      "text/plain": [
       "<matplotlib.image.AxesImage at 0x7fbf04178790>"
      ]
     },
     "execution_count": 3,
     "metadata": {},
     "output_type": "execute_result"
    },
    {
     "data": {
      "image/png": "[encoded data removed]",
      "text/plain": [
       "<matplotlib.figure.Figure at 0x7fbf04ccead0>"
      ]
     },
     "metadata": {},
     "output_type": "display_data"
    }
   ],
   "source": [
    "import numpy as np\n",
    "import matplotlib.pyplot as plt\n",
    "%matplotlib inline\n",
    "\n",
    "plt.figure(1, figsize=(3, 3))\n",
    "plt.imshow( image.eval(), interpolation='none' )\n",
    "\n"
   ]
  },
  {
   "cell_type": "code",
   "execution_count": 4,
   "metadata": {
    "collapsed": false
   },
   "outputs": [],
   "source": [
    "from image_classification import ImageClassification"
   ]
  },
  {
   "cell_type": "code",
   "execution_count": 5,
   "metadata": {
    "collapsed": false
   },
   "outputs": [
    {
     "name": "stdout",
     "output_type": "stream",
     "text": [
      "[5, 5, 3, 64]\n",
      "[64]\n",
      "TensorShape([Dimension(1), Dimension(16), Dimension(16), Dimension(64)])\n",
      "[5, 5, 64, 64]\n",
      "[64]\n",
      "TensorShape([Dimension(1), Dimension(8), Dimension(8), Dimension(64)])\n",
      "[4096, 384]\n",
      "[384]\n",
      "TensorShape([Dimension(1), Dimension(384)])\n",
      "[384, 192]\n",
      "[192]\n",
      "TensorShape([Dimension(1), Dimension(192)])\n",
      "[192, 10]\n",
      "[10]\n",
      "TensorShape([Dimension(1), Dimension(10)])\n",
      "[[ 0.00498285  0.00461225  0.00177389 -0.00597111  0.00171701  0.0121395\n",
      "  -0.01595945 -0.00492924 -0.00343513 -0.00601396]]\n"
     ]
    }
   ],
   "source": [
    "#sess = tf.InteractiveSession()\n",
    "\n",
    "\n",
    "\n",
    "nn = ImageClassification({}, sess)\n",
    "output = nn.forward(images)\n",
    "\n",
    "sess.run(tf.initialize_all_variables())\n",
    "print output.eval()\n"
   ]
  },
  {
   "cell_type": "code",
   "execution_count": null,
   "metadata": {
    "collapsed": true
   },
   "outputs": [],
   "source": []
  }
 ],
 "metadata": {
  "kernelspec": {
   "display_name": "Python 2",
   "language": "python",
   "name": "python2"
  },
  "language_info": {
   "codemirror_mode": {
    "name": "ipython",
    "version": 2
   },
   "file_extension": ".py",
   "mimetype": "text/x-python",
   "name": "python",
   "nbconvert_exporter": "python",
   "pygments_lexer": "ipython2",
   "version": "2.7.6"
  }
 },
 "nbformat": 4,
 "nbformat_minor": 0
}
