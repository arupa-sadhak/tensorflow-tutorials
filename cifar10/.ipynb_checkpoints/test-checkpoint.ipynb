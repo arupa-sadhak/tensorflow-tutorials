{
 "cells": [
  {
   "cell_type": "code",
   "execution_count": 1,
   "metadata": {
    "collapsed": false
   },
   "outputs": [],
   "source": [
    "import images\n",
    "filenames = ['../datas/label%d.txt'%_ for _ in range(10)]\n",
    "reader = images.Reader(filenames, batch_size=128, width=32, height=32, filetype='png', min_after_dequeue=1)\n",
    "batch = reader.batch"
   ]
  },
  {
   "cell_type": "code",
   "execution_count": 2,
   "metadata": {
    "collapsed": false
   },
   "outputs": [],
   "source": [
    "from cifar10_architecture import Cifar10Architecture"
   ]
  },
  {
   "cell_type": "code",
   "execution_count": 3,
   "metadata": {
    "collapsed": false
   },
   "outputs": [
    {
     "name": "stdout",
     "output_type": "stream",
     "text": [
      "[training] step:0000, loss:6.378816 accuracy:0.093750 (339.4 examples/sec; 0.377 sec/batch)\n"
     ]
    },
    {
     "ename": "InvalidArgumentError",
     "evalue": "Duplicate tag local3/weight_loss (raw) found in summary inputs\n\t [[Node: MergeSummary/MergeSummary = MergeSummary[N=59, _device=\"/job:localhost/replica:0/task:0/cpu:0\"](input_producer/ScalarSummary, shuffle_batch_join/ScalarSummary, conv1/HistogramSummary, conv1/ScalarSummary, pool1/HistogramSummary, pool1/ScalarSummary, norm1/HistogramSummary, norm1/ScalarSummary, conv2/HistogramSummary, conv2/ScalarSummary, norm2/HistogramSummary, norm2/ScalarSummary, pool2/HistogramSummary, pool2/ScalarSummary, local3/HistogramSummary, local3/ScalarSummary, local4/HistogramSummary, local4/ScalarSummary, linear/HistogramSummary, linear/ScalarSummary, ScalarSummary, ScalarSummary_1, ScalarSummary_2, ScalarSummary_3, ScalarSummary_4, ScalarSummary_5, ScalarSummary_6, ScalarSummary_7, ScalarSummary_8, ScalarSummary_9, ScalarSummary_10, ScalarSummary_11, ScalarSummary_12, ScalarSummary_13, ScalarSummary_14, ScalarSummary_15, ScalarSummary_16, ScalarSummary_17, ScalarSummary_18, HistogramSummary, HistogramSummary_1, HistogramSummary_2, HistogramSummary_3, HistogramSummary_4, HistogramSummary_5, HistogramSummary_6, HistogramSummary_7, HistogramSummary_8, HistogramSummary_9, HistogramSummary_10, HistogramSummary_11, HistogramSummary_12, HistogramSummary_13, HistogramSummary_14, HistogramSummary_15, HistogramSummary_16, HistogramSummary_17, HistogramSummary_18, HistogramSummary_19)]]\nCaused by op u'MergeSummary/MergeSummary', defined at:\n  File \"/usr/lib/python2.7/runpy.py\", line 162, in _run_module_as_main\n    \"__main__\", fname, loader, pkg_name)\n  File \"/usr/lib/python2.7/runpy.py\", line 72, in _run_code\n    exec code in run_globals\n  File \"/mnt/daum/users/clint/virtualenv/tensorflow/lib/python2.7/site-packages/ipykernel/__main__.py\", line 3, in <module>\n    app.launch_new_instance()\n  File \"/daum/users/clint/virtualenv/tensorflow/local/lib/python2.7/site-packages/traitlets/config/application.py\", line 592, in launch_instance\n    app.start()\n  File \"/daum/users/clint/virtualenv/tensorflow/local/lib/python2.7/site-packages/ipykernel/kernelapp.py\", line 405, in start\n    ioloop.IOLoop.instance().start()\n  File \"/daum/users/clint/virtualenv/tensorflow/local/lib/python2.7/site-packages/zmq/eventloop/ioloop.py\", line 162, in start\n    super(ZMQIOLoop, self).start()\n  File \"/daum/users/clint/virtualenv/tensorflow/local/lib/python2.7/site-packages/tornado/ioloop.py\", line 883, in start\n    handler_func(fd_obj, events)\n  File \"/daum/users/clint/virtualenv/tensorflow/local/lib/python2.7/site-packages/tornado/stack_context.py\", line 275, in null_wrapper\n    return fn(*args, **kwargs)\n  File \"/daum/users/clint/virtualenv/tensorflow/local/lib/python2.7/site-packages/zmq/eventloop/zmqstream.py\", line 440, in _handle_events\n    self._handle_recv()\n  File \"/daum/users/clint/virtualenv/tensorflow/local/lib/python2.7/site-packages/zmq/eventloop/zmqstream.py\", line 472, in _handle_recv\n    self._run_callback(callback, msg)\n  File \"/daum/users/clint/virtualenv/tensorflow/local/lib/python2.7/site-packages/zmq/eventloop/zmqstream.py\", line 414, in _run_callback\n    callback(*args, **kwargs)\n  File \"/daum/users/clint/virtualenv/tensorflow/local/lib/python2.7/site-packages/tornado/stack_context.py\", line 275, in null_wrapper\n    return fn(*args, **kwargs)\n  File \"/daum/users/clint/virtualenv/tensorflow/local/lib/python2.7/site-packages/ipykernel/kernelbase.py\", line 260, in dispatcher\n    return self.dispatch_shell(stream, msg)\n  File \"/daum/users/clint/virtualenv/tensorflow/local/lib/python2.7/site-packages/ipykernel/kernelbase.py\", line 212, in dispatch_shell\n    handler(stream, idents, msg)\n  File \"/daum/users/clint/virtualenv/tensorflow/local/lib/python2.7/site-packages/ipykernel/kernelbase.py\", line 370, in execute_request\n    user_expressions, allow_stdin)\n  File \"/daum/users/clint/virtualenv/tensorflow/local/lib/python2.7/site-packages/ipykernel/ipkernel.py\", line 175, in do_execute\n    shell.run_cell(code, store_history=store_history, silent=silent)\n  File \"/daum/users/clint/virtualenv/tensorflow/local/lib/python2.7/site-packages/IPython/core/interactiveshell.py\", line 2902, in run_cell\n    interactivity=interactivity, compiler=compiler, result=result)\n  File \"/daum/users/clint/virtualenv/tensorflow/local/lib/python2.7/site-packages/IPython/core/interactiveshell.py\", line 3006, in run_ast_nodes\n    if self.run_code(code, result):\n  File \"/daum/users/clint/virtualenv/tensorflow/local/lib/python2.7/site-packages/IPython/core/interactiveshell.py\", line 3066, in run_code\n    exec(code_obj, self.user_global_ns, self.user_ns)\n  File \"<ipython-input-3-04d028bf5dff>\", line 6, in <module>\n    summary_op = tf.merge_all_summaries()\n  File \"/daum/users/clint/virtualenv/tensorflow/local/lib/python2.7/site-packages/tensorflow/python/ops/summary_ops.py\", line 158, in merge_all_summaries\n    return merge_summary(summary_ops)\n  File \"/daum/users/clint/virtualenv/tensorflow/local/lib/python2.7/site-packages/tensorflow/python/ops/summary_ops.py\", line 137, in merge_summary\n    val = gen_summary_ops._merge_summary(inputs=inputs, name=name)\n  File \"/daum/users/clint/virtualenv/tensorflow/local/lib/python2.7/site-packages/tensorflow/python/ops/gen_summary_ops.py\", line 114, in _merge_summary\n    return _op_def_lib.apply_op(\"MergeSummary\", inputs=inputs, name=name)\n  File \"/daum/users/clint/virtualenv/tensorflow/local/lib/python2.7/site-packages/tensorflow/python/ops/op_def_library.py\", line 664, in apply_op\n    op_def=op_def)\n  File \"/daum/users/clint/virtualenv/tensorflow/local/lib/python2.7/site-packages/tensorflow/python/framework/ops.py\", line 1834, in create_op\n    original_op=self._default_original_op, op_def=op_def)\n  File \"/daum/users/clint/virtualenv/tensorflow/local/lib/python2.7/site-packages/tensorflow/python/framework/ops.py\", line 1043, in __init__\n    self._traceback = _extract_stack()\n",
     "output_type": "error",
     "traceback": [
      "\u001b[1;31m---------------------------------------------------------------------------\u001b[0m",
      "\u001b[1;31mInvalidArgumentError\u001b[0m                      Traceback (most recent call last)",
      "\u001b[1;32m<ipython-input-3-04d028bf5dff>\u001b[0m in \u001b[0;36m<module>\u001b[1;34m()\u001b[0m\n\u001b[0;32m     24\u001b[0m \u001b[1;33m\u001b[0m\u001b[0m\n\u001b[0;32m     25\u001b[0m             \u001b[1;32mif\u001b[0m \u001b[0mstep\u001b[0m \u001b[1;33m%\u001b[0m \u001b[1;36m100\u001b[0m \u001b[1;33m==\u001b[0m \u001b[1;36m0\u001b[0m\u001b[1;33m:\u001b[0m\u001b[1;33m\u001b[0m\u001b[0m\n\u001b[1;32m---> 26\u001b[1;33m                 \u001b[0msummary_str\u001b[0m \u001b[1;33m=\u001b[0m \u001b[0msess\u001b[0m\u001b[1;33m.\u001b[0m\u001b[0mrun\u001b[0m\u001b[1;33m(\u001b[0m\u001b[0msummary_op\u001b[0m\u001b[1;33m)\u001b[0m\u001b[1;33m\u001b[0m\u001b[0m\n\u001b[0m\u001b[0;32m     27\u001b[0m                 \u001b[0msummary_writer\u001b[0m\u001b[1;33m.\u001b[0m\u001b[0madd_summary\u001b[0m\u001b[1;33m(\u001b[0m\u001b[0msummary_str\u001b[0m\u001b[1;33m,\u001b[0m \u001b[0mstep\u001b[0m\u001b[1;33m)\u001b[0m\u001b[1;33m\u001b[0m\u001b[0m\n\u001b[0;32m     28\u001b[0m \u001b[1;33m\u001b[0m\u001b[0m\n",
      "\u001b[1;32m/daum/users/clint/virtualenv/tensorflow/local/lib/python2.7/site-packages/tensorflow/python/client/session.pyc\u001b[0m in \u001b[0;36mrun\u001b[1;34m(self, fetches, feed_dict)\u001b[0m\n\u001b[0;32m    366\u001b[0m \u001b[1;33m\u001b[0m\u001b[0m\n\u001b[0;32m    367\u001b[0m     \u001b[1;31m# Run request and get response.\u001b[0m\u001b[1;33m\u001b[0m\u001b[1;33m\u001b[0m\u001b[0m\n\u001b[1;32m--> 368\u001b[1;33m     \u001b[0mresults\u001b[0m \u001b[1;33m=\u001b[0m \u001b[0mself\u001b[0m\u001b[1;33m.\u001b[0m\u001b[0m_do_run\u001b[0m\u001b[1;33m(\u001b[0m\u001b[0mtarget_list\u001b[0m\u001b[1;33m,\u001b[0m \u001b[0munique_fetch_targets\u001b[0m\u001b[1;33m,\u001b[0m \u001b[0mfeed_dict_string\u001b[0m\u001b[1;33m)\u001b[0m\u001b[1;33m\u001b[0m\u001b[0m\n\u001b[0m\u001b[0;32m    369\u001b[0m \u001b[1;33m\u001b[0m\u001b[0m\n\u001b[0;32m    370\u001b[0m     \u001b[1;31m# User may have fetched the same tensor multiple times, but we\u001b[0m\u001b[1;33m\u001b[0m\u001b[1;33m\u001b[0m\u001b[0m\n",
      "\u001b[1;32m/daum/users/clint/virtualenv/tensorflow/local/lib/python2.7/site-packages/tensorflow/python/client/session.pyc\u001b[0m in \u001b[0;36m_do_run\u001b[1;34m(self, target_list, fetch_list, feed_dict)\u001b[0m\n\u001b[0;32m    442\u001b[0m         \u001b[1;31m# pylint: disable=protected-access\u001b[0m\u001b[1;33m\u001b[0m\u001b[1;33m\u001b[0m\u001b[0m\n\u001b[0;32m    443\u001b[0m         raise errors._make_specific_exception(node_def, op, error_message,\n\u001b[1;32m--> 444\u001b[1;33m                                               e.code)\n\u001b[0m\u001b[0;32m    445\u001b[0m         \u001b[1;31m# pylint: enable=protected-access\u001b[0m\u001b[1;33m\u001b[0m\u001b[1;33m\u001b[0m\u001b[0m\n\u001b[0;32m    446\u001b[0m       \u001b[0msix\u001b[0m\u001b[1;33m.\u001b[0m\u001b[0mreraise\u001b[0m\u001b[1;33m(\u001b[0m\u001b[0me_type\u001b[0m\u001b[1;33m,\u001b[0m \u001b[0me_value\u001b[0m\u001b[1;33m,\u001b[0m \u001b[0me_traceback\u001b[0m\u001b[1;33m)\u001b[0m\u001b[1;33m\u001b[0m\u001b[0m\n",
      "\u001b[1;31mInvalidArgumentError\u001b[0m: Duplicate tag local3/weight_loss (raw) found in summary inputs\n\t [[Node: MergeSummary/MergeSummary = MergeSummary[N=59, _device=\"/job:localhost/replica:0/task:0/cpu:0\"](input_producer/ScalarSummary, shuffle_batch_join/ScalarSummary, conv1/HistogramSummary, conv1/ScalarSummary, pool1/HistogramSummary, pool1/ScalarSummary, norm1/HistogramSummary, norm1/ScalarSummary, conv2/HistogramSummary, conv2/ScalarSummary, norm2/HistogramSummary, norm2/ScalarSummary, pool2/HistogramSummary, pool2/ScalarSummary, local3/HistogramSummary, local3/ScalarSummary, local4/HistogramSummary, local4/ScalarSummary, linear/HistogramSummary, linear/ScalarSummary, ScalarSummary, ScalarSummary_1, ScalarSummary_2, ScalarSummary_3, ScalarSummary_4, ScalarSummary_5, ScalarSummary_6, ScalarSummary_7, ScalarSummary_8, ScalarSummary_9, ScalarSummary_10, ScalarSummary_11, ScalarSummary_12, ScalarSummary_13, ScalarSummary_14, ScalarSummary_15, ScalarSummary_16, ScalarSummary_17, ScalarSummary_18, HistogramSummary, HistogramSummary_1, HistogramSummary_2, HistogramSummary_3, HistogramSummary_4, HistogramSummary_5, HistogramSummary_6, HistogramSummary_7, HistogramSummary_8, HistogramSummary_9, HistogramSummary_10, HistogramSummary_11, HistogramSummary_12, HistogramSummary_13, HistogramSummary_14, HistogramSummary_15, HistogramSummary_16, HistogramSummary_17, HistogramSummary_18, HistogramSummary_19)]]\nCaused by op u'MergeSummary/MergeSummary', defined at:\n  File \"/usr/lib/python2.7/runpy.py\", line 162, in _run_module_as_main\n    \"__main__\", fname, loader, pkg_name)\n  File \"/usr/lib/python2.7/runpy.py\", line 72, in _run_code\n    exec code in run_globals\n  File \"/mnt/daum/users/clint/virtualenv/tensorflow/lib/python2.7/site-packages/ipykernel/__main__.py\", line 3, in <module>\n    app.launch_new_instance()\n  File \"/daum/users/clint/virtualenv/tensorflow/local/lib/python2.7/site-packages/traitlets/config/application.py\", line 592, in launch_instance\n    app.start()\n  File \"/daum/users/clint/virtualenv/tensorflow/local/lib/python2.7/site-packages/ipykernel/kernelapp.py\", line 405, in start\n    ioloop.IOLoop.instance().start()\n  File \"/daum/users/clint/virtualenv/tensorflow/local/lib/python2.7/site-packages/zmq/eventloop/ioloop.py\", line 162, in start\n    super(ZMQIOLoop, self).start()\n  File \"/daum/users/clint/virtualenv/tensorflow/local/lib/python2.7/site-packages/tornado/ioloop.py\", line 883, in start\n    handler_func(fd_obj, events)\n  File \"/daum/users/clint/virtualenv/tensorflow/local/lib/python2.7/site-packages/tornado/stack_context.py\", line 275, in null_wrapper\n    return fn(*args, **kwargs)\n  File \"/daum/users/clint/virtualenv/tensorflow/local/lib/python2.7/site-packages/zmq/eventloop/zmqstream.py\", line 440, in _handle_events\n    self._handle_recv()\n  File \"/daum/users/clint/virtualenv/tensorflow/local/lib/python2.7/site-packages/zmq/eventloop/zmqstream.py\", line 472, in _handle_recv\n    self._run_callback(callback, msg)\n  File \"/daum/users/clint/virtualenv/tensorflow/local/lib/python2.7/site-packages/zmq/eventloop/zmqstream.py\", line 414, in _run_callback\n    callback(*args, **kwargs)\n  File \"/daum/users/clint/virtualenv/tensorflow/local/lib/python2.7/site-packages/tornado/stack_context.py\", line 275, in null_wrapper\n    return fn(*args, **kwargs)\n  File \"/daum/users/clint/virtualenv/tensorflow/local/lib/python2.7/site-packages/ipykernel/kernelbase.py\", line 260, in dispatcher\n    return self.dispatch_shell(stream, msg)\n  File \"/daum/users/clint/virtualenv/tensorflow/local/lib/python2.7/site-packages/ipykernel/kernelbase.py\", line 212, in dispatch_shell\n    handler(stream, idents, msg)\n  File \"/daum/users/clint/virtualenv/tensorflow/local/lib/python2.7/site-packages/ipykernel/kernelbase.py\", line 370, in execute_request\n    user_expressions, allow_stdin)\n  File \"/daum/users/clint/virtualenv/tensorflow/local/lib/python2.7/site-packages/ipykernel/ipkernel.py\", line 175, in do_execute\n    shell.run_cell(code, store_history=store_history, silent=silent)\n  File \"/daum/users/clint/virtualenv/tensorflow/local/lib/python2.7/site-packages/IPython/core/interactiveshell.py\", line 2902, in run_cell\n    interactivity=interactivity, compiler=compiler, result=result)\n  File \"/daum/users/clint/virtualenv/tensorflow/local/lib/python2.7/site-packages/IPython/core/interactiveshell.py\", line 3006, in run_ast_nodes\n    if self.run_code(code, result):\n  File \"/daum/users/clint/virtualenv/tensorflow/local/lib/python2.7/site-packages/IPython/core/interactiveshell.py\", line 3066, in run_code\n    exec(code_obj, self.user_global_ns, self.user_ns)\n  File \"<ipython-input-3-04d028bf5dff>\", line 6, in <module>\n    summary_op = tf.merge_all_summaries()\n  File \"/daum/users/clint/virtualenv/tensorflow/local/lib/python2.7/site-packages/tensorflow/python/ops/summary_ops.py\", line 158, in merge_all_summaries\n    return merge_summary(summary_ops)\n  File \"/daum/users/clint/virtualenv/tensorflow/local/lib/python2.7/site-packages/tensorflow/python/ops/summary_ops.py\", line 137, in merge_summary\n    val = gen_summary_ops._merge_summary(inputs=inputs, name=name)\n  File \"/daum/users/clint/virtualenv/tensorflow/local/lib/python2.7/site-packages/tensorflow/python/ops/gen_summary_ops.py\", line 114, in _merge_summary\n    return _op_def_lib.apply_op(\"MergeSummary\", inputs=inputs, name=name)\n  File \"/daum/users/clint/virtualenv/tensorflow/local/lib/python2.7/site-packages/tensorflow/python/ops/op_def_library.py\", line 664, in apply_op\n    op_def=op_def)\n  File \"/daum/users/clint/virtualenv/tensorflow/local/lib/python2.7/site-packages/tensorflow/python/framework/ops.py\", line 1834, in create_op\n    original_op=self._default_original_op, op_def=op_def)\n  File \"/daum/users/clint/virtualenv/tensorflow/local/lib/python2.7/site-packages/tensorflow/python/framework/ops.py\", line 1043, in __init__\n    self._traceback = _extract_stack()\n"
     ]
    }
   ],
   "source": [
    "import time\n",
    "import tensorflow as tf\n",
    "with tf.Session() as sess:\n",
    "    network = Cifar10Architecture(sess)\n",
    "    train_op, loss, accuracy = network.train(batch.images, batch.labels)\n",
    "    summary_op = tf.merge_all_summaries()\n",
    "    summary_writer = tf.train.SummaryWriter('/tmp/cifar10', graph_def=sess.graph_def)\n",
    "\n",
    "    sess.run( tf.initialize_all_variables() )\n",
    "    reader.start(sess)\n",
    "    \n",
    "    try:\n",
    "        for step in range(1000):\n",
    "            start_time = time.time()\n",
    "            _ = sess.run([train_op, loss, accuracy])\n",
    "            duration = time.time() - start_time\n",
    "            \n",
    "            if step%10 == 0:\n",
    "                num_examples_per_step = 128\n",
    "                examples_per_sec = num_examples_per_step / duration\n",
    "                sec_per_batch = float(duration)\n",
    "                print '[training] step:%04d, loss:%.6f accuracy:%.6f (%.1f examples/sec; %.3f sec/batch)'%(step, _[1], _[2], examples_per_sec, sec_per_batch)\n",
    "                \n",
    "            if step % 100 == 0:\n",
    "                summary_str = sess.run(summary_op)\n",
    "                summary_writer.add_summary(summary_str, step)\n",
    "\n",
    "    except tf.errors.OutOfRangeError:\n",
    "        print('Done training -- epoch limit reached')\n",
    "    finally:\n",
    "        reader.stop()\n",
    "    \n",
    "    reader.join()"
   ]
  },
  {
   "cell_type": "code",
   "execution_count": null,
   "metadata": {
    "collapsed": false
   },
   "outputs": [],
   "source": []
  },
  {
   "cell_type": "code",
   "execution_count": null,
   "metadata": {
    "collapsed": true
   },
   "outputs": [],
   "source": []
  }
 ],
 "metadata": {
  "kernelspec": {
   "display_name": "Python 2",
   "language": "python",
   "name": "python2"
  },
  "language_info": {
   "codemirror_mode": {
    "name": "ipython",
    "version": 2
   },
   "file_extension": ".py",
   "mimetype": "text/x-python",
   "name": "python",
   "nbconvert_exporter": "python",
   "pygments_lexer": "ipython2",
   "version": "2.7.6"
  }
 },
 "nbformat": 4,
 "nbformat_minor": 0
}
